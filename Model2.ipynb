{
 "cells": [
  {
   "cell_type": "code",
   "execution_count": null,
   "metadata": {},
   "outputs": [],
   "source": [
    "def read_data(data_dir):\n",
    "    fpaths = []\n",
    "    fpaths = [] \n",
    "    labels = [] \n",
    "    data_map = {}\n",
    "    for fname in os.listdir(data_dir):  \n",
    "        if '.DS_Store' in fname:        \n",
    "            continue    \n",
    "        path_label = ['','']    \n",
    "        fpath = os.path.join(data_dir, fname)       \n",
    "        image_label, ftype = fname.split(\".\")       \n",
    "        \n",
    "        if not image_label in data_map:         \n",
    "            data_map[image_label] = path_label        \n",
    "            #print(\"name: {}\\tlabel: {}\".format(image_label, ftype))    \n",
    "            \n",
    "        if ftype == 'txt':          \n",
    "            f = open(fpath, \"r\")        \n",
    "            label = f.readlines()           \n",
    "            # label is list with len 1          \n",
    "            f.close()           \n",
    "            labels.append(label[0])         \n",
    "            data_map[image_label][0] = label[0]     \n",
    "        else:           \n",
    "            fpaths.append(fpath)        \n",
    "            data_map[image_label][1] = fpath\n",
    "            \n",
    "        for key in data_map:    \n",
    "            print(\"key: {}, label path: {}\".format(key, data_map[key]))\n",
    "            \n",
    "            \n",
    "        labels = np.array(labels) \n",
    "        fpaths = np.array(fpaths)\n",
    "        \n",
    "        \n",
    "        print(\"shape of fpaths: {}\\tshape of labels: {}\".format(fpaths.shape,         labels.shape))\n",
    "            return data_map #fpaths, labels"
   ]
  },
  {
   "cell_type": "code",
   "execution_count": null,
   "metadata": {},
   "outputs": [],
   "source": [
    "def get_dataset(data_map):\n",
    "    dataset = np.ndarray(shape=(len(data_map), 100, 100), dtype='float32')  \n",
    "    print(dataset.shape)\n",
    "    labels = np.ones(shape=(len(data_map), 5), dtype='int') * 10\n",
    "    \n",
    "    width_height = (100, 100)   \n",
    "    for i, key in enumerate(data_map):      \n",
    "        path_label = data_map[key]      \n",
    "        image = Image.open(path_label[1])       \n",
    "        label = path_label[0]       \n",
    "        label_array = []    \n",
    "        for n, num in enumerate(label):         \n",
    "            label_array.append(num)\n",
    "            \n",
    "        resized_img = image.resize(width_height)    \n",
    "        #img_array =np.array(resized_img, dtype='float32')      \n",
    "        #resized_img = normalization(resized_img)       \n",
    "        img_array = rgb2gray(resized_img)       \n",
    "        dataset[i,:,:] = img_array[:,:]     \n",
    "        ds = dataset #[..., np.newaxis]     \n",
    "        labels[i,:] = label_array   \n",
    "        print('dataset:',ds.shape)  \n",
    "        print('labels:',labels.shape)   \n",
    "        return ds, labels"
   ]
  },
  {
   "cell_type": "code",
   "execution_count": null,
   "metadata": {},
   "outputs": [],
   "source": [
    "def rgb2gray(img):  \n",
    "    return np.dot(np.array(img, dtype='float32'), [0.299, 0.587, 0.114])\n",
    "from sklearn.model_selection import train_test_split\n",
    "def prepare_final_data(x_train, y_train):   \n",
    "    x_train, x_valid, y_train, y_valid = train_test_split(x_train, y_train, test_size = 0.2)\n",
    "    print(x_train.shape[0], \"train samples\")\n",
    "    print(x_valid.shape[0], \"valid samples\")\n",
    "    return {        \"x_train\": x_train,        \"y_train\": y_train,        \"x_valid\": x_valid,        \"y_valid\": y_valid    }"
   ]
  },
  {
   "cell_type": "code",
   "execution_count": null,
   "metadata": {},
   "outputs": [],
   "source": []
  },
  {
   "cell_type": "code",
   "execution_count": null,
   "metadata": {},
   "outputs": [],
   "source": []
  },
  {
   "cell_type": "code",
   "execution_count": null,
   "metadata": {},
   "outputs": [],
   "source": []
  }
 ],
 "metadata": {
  "kernelspec": {
   "display_name": "Python 3",
   "language": "python",
   "name": "python3"
  },
  "language_info": {
   "codemirror_mode": {
    "name": "ipython",
    "version": 3
   },
   "file_extension": ".py",
   "mimetype": "text/x-python",
   "name": "python",
   "nbconvert_exporter": "python",
   "pygments_lexer": "ipython3",
   "version": "3.7.6"
  }
 },
 "nbformat": 4,
 "nbformat_minor": 4
}
